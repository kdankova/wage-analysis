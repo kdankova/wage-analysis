{
 "cells": [
  {
   "metadata": {},
   "cell_type": "markdown",
   "source": "# Wage analysis",
   "id": "9ea843f8c509864"
  },
  {
   "cell_type": "markdown",
   "metadata": {},
   "source": [
    "Считаем файл `wage.csv` в DataFrame с названием `wage`\n",
    "\n",
    "`person_id` - идентификатор человека\n",
    "\n",
    "`gender` - пол, 0 - женский, 1 - мужской\n",
    "\n",
    "`wage` - заработная плата в рублях"
   ],
   "id": "74dbe219d417e1f2"
  },
  {
   "cell_type": "code",
   "metadata": {
    "ExecuteTime": {
     "end_time": "2024-08-22T21:17:16.491317Z",
     "start_time": "2024-08-22T21:17:16.459880Z"
    }
   },
   "source": [
    "import pandas as pd\n",
    "\n",
    "wage = pd.read_csv('wage.csv')"
   ],
   "id": "ebc71dfa95028840",
   "outputs": [],
   "execution_count": 2
  },
  {
   "cell_type": "markdown",
   "metadata": {},
   "source": "Поменяем колонку `gender` так, чтобы были записи `F` (female) и `M` (male) вместо 0 и 1",
   "id": "e7c8f22c9a9f8d7f"
  },
  {
   "cell_type": "code",
   "metadata": {
    "ExecuteTime": {
     "end_time": "2024-08-22T21:18:10.491640Z",
     "start_time": "2024-08-22T21:18:10.475693Z"
    }
   },
   "source": [
    "wage['gender'] = wage['gender'].map({0: 'F', 1: 'M'})\n",
    "\n",
    "print(wage.head())"
   ],
   "id": "ac8a1f8b03da6204",
   "outputs": [
    {
     "name": "stdout",
     "output_type": "stream",
     "text": [
      "   person_id gender          wage\n",
      "0          0      M  46793.603811\n",
      "1          1      M  33481.575720\n",
      "2          2      M  44523.699084\n",
      "3          3      M  15995.576829\n",
      "4          4      F  10282.631224\n"
     ]
    }
   ],
   "execution_count": 3
  },
  {
   "cell_type": "markdown",
   "metadata": {},
   "source": "Посчитаем среднюю зарплату у мужчин и женщин",
   "id": "8e6f2f78f62db18f"
  },
  {
   "cell_type": "code",
   "metadata": {
    "ExecuteTime": {
     "end_time": "2024-08-22T21:19:05.785920Z",
     "start_time": "2024-08-22T21:19:05.773278Z"
    }
   },
   "source": [
    "mean_wage_by_gender = wage.groupby('gender')['wage'].mean()\n",
    "\n",
    "print(mean_wage_by_gender)"
   ],
   "id": "729ff89034c0f191",
   "outputs": [
    {
     "name": "stdout",
     "output_type": "stream",
     "text": [
      "gender\n",
      "F    40855.747261\n",
      "M    46815.944005\n",
      "Name: wage, dtype: float64\n"
     ]
    }
   ],
   "execution_count": 4
  },
  {
   "cell_type": "markdown",
   "metadata": {},
   "source": [
    "Теперь взглянем внимательнее на данные и обнаружим, что некоторые люди попали в выборку несколько раз. \n",
    "    1. Находим таких людей при помощи `value_counts()`\n",
    "    2. Убедимся, что записи по ним с одинаковым `wage`. Отображаем количество разных значений при помощи `nunique()`\n",
    "    3. Избавляемся от повторяющихся значений `drop_duplicates()`"
   ],
   "id": "20f0e37b6a892bdf"
  },
  {
   "cell_type": "code",
   "metadata": {
    "ExecuteTime": {
     "end_time": "2024-08-22T21:20:45.698028Z",
     "start_time": "2024-08-22T21:20:45.657164Z"
    }
   },
   "source": [
    "# Найдем людей с несколькими записями\n",
    "duplicates = wage['person_id'].value_counts()\n",
    "print(duplicates[duplicates > 1])\n",
    "# Проверим, что у дубликатов одинаковая зарплата\n",
    "print(wage.loc[wage['person_id'].isin([1, 2])]['wage'].nunique())\n",
    "# Удалим дубликаты\n",
    "wage_deduped = wage.drop_duplicates(['person_id'])\n",
    "print(wage_deduped)"
   ],
   "id": "bef6eab5fc2daba5",
   "outputs": [
    {
     "name": "stdout",
     "output_type": "stream",
     "text": [
      "person_id\n",
      "17    2\n",
      "16    2\n",
      "15    2\n",
      "14    2\n",
      "13    2\n",
      "12    2\n",
      "Name: count, dtype: int64\n",
      "2\n",
      "      person_id gender           wage\n",
      "0             0      M   46793.603811\n",
      "1             1      M   33481.575720\n",
      "2             2      M   44523.699084\n",
      "3             3      M   15995.576829\n",
      "4             4      F   10282.631224\n",
      "...         ...    ...            ...\n",
      "1001        995      M   66503.737185\n",
      "1002        996      M    9972.956272\n",
      "1003        997      F  104504.616392\n",
      "1004        998      M   98927.903076\n",
      "1005        999      M  108107.141368\n",
      "\n",
      "[1000 rows x 3 columns]\n"
     ]
    }
   ],
   "execution_count": 5
  },
  {
   "cell_type": "markdown",
   "metadata": {},
   "source": "Теперь посмотрим внимательнее на зарплаты и избавимся от бессмысленных значений",
   "id": "9d721c80ebfc5c8d"
  },
  {
   "cell_type": "code",
   "metadata": {
    "ExecuteTime": {
     "end_time": "2024-08-23T17:11:55.761776Z",
     "start_time": "2024-08-23T17:11:55.612859Z"
    }
   },
   "source": [
    "print(wage['wage'].describe())\n",
    "wage = wage[wage['wage'] > 0]"
   ],
   "id": "6b68f99a9ca9c8b5",
   "outputs": [
    {
     "name": "stdout",
     "output_type": "stream",
     "text": [
      "count      1006.000000\n",
      "mean      43865.468877\n",
      "std       55683.570648\n",
      "min     -287418.645743\n",
      "25%       14502.933964\n",
      "50%       27309.529498\n",
      "75%       52035.342033\n",
      "max      755320.874132\n",
      "Name: wage, dtype: float64\n"
     ]
    }
   ],
   "execution_count": 6
  },
  {
   "cell_type": "markdown",
   "metadata": {},
   "source": "Посмотрим на зарплату с учетом бонуса",
   "id": "25ba80b5896eb02b"
  },
  {
   "cell_type": "code",
   "metadata": {
    "ExecuteTime": {
     "end_time": "2024-08-23T17:22:37.019188Z",
     "start_time": "2024-08-23T17:22:36.797362Z"
    }
   },
   "source": [
    "bonus = pd.read_csv('bonus.csv', sep=';')\n",
    "bonus.head()"
   ],
   "id": "794aa5adf000a2a2",
   "outputs": [
    {
     "data": {
      "text/plain": [
       "   person_id          bonus\n",
       "0        905   85059.638382\n",
       "1        836    7703.346074\n",
       "2        287    3120.269742\n",
       "3        548    5347.987142\n",
       "4        575  137257.490614"
      ],
      "text/html": [
       "<div>\n",
       "<style scoped>\n",
       "    .dataframe tbody tr th:only-of-type {\n",
       "        vertical-align: middle;\n",
       "    }\n",
       "\n",
       "    .dataframe tbody tr th {\n",
       "        vertical-align: top;\n",
       "    }\n",
       "\n",
       "    .dataframe thead th {\n",
       "        text-align: right;\n",
       "    }\n",
       "</style>\n",
       "<table border=\"1\" class=\"dataframe\">\n",
       "  <thead>\n",
       "    <tr style=\"text-align: right;\">\n",
       "      <th></th>\n",
       "      <th>person_id</th>\n",
       "      <th>bonus</th>\n",
       "    </tr>\n",
       "  </thead>\n",
       "  <tbody>\n",
       "    <tr>\n",
       "      <th>0</th>\n",
       "      <td>905</td>\n",
       "      <td>85059.638382</td>\n",
       "    </tr>\n",
       "    <tr>\n",
       "      <th>1</th>\n",
       "      <td>836</td>\n",
       "      <td>7703.346074</td>\n",
       "    </tr>\n",
       "    <tr>\n",
       "      <th>2</th>\n",
       "      <td>287</td>\n",
       "      <td>3120.269742</td>\n",
       "    </tr>\n",
       "    <tr>\n",
       "      <th>3</th>\n",
       "      <td>548</td>\n",
       "      <td>5347.987142</td>\n",
       "    </tr>\n",
       "    <tr>\n",
       "      <th>4</th>\n",
       "      <td>575</td>\n",
       "      <td>137257.490614</td>\n",
       "    </tr>\n",
       "  </tbody>\n",
       "</table>\n",
       "</div>"
      ]
     },
     "execution_count": 7,
     "metadata": {},
     "output_type": "execute_result"
    }
   ],
   "execution_count": 7
  },
  {
   "cell_type": "markdown",
   "metadata": {},
   "source": "Чтобы посчитать итоговую зарплату, нам нужно по каждому человеку знать и оклад, и премию. Для этого надо будет сджойнить таблицы по `person_id`",
   "id": "d7c540d1b6c06ba8"
  },
  {
   "cell_type": "code",
   "metadata": {
    "ExecuteTime": {
     "end_time": "2024-08-23T17:46:58.827860Z",
     "start_time": "2024-08-23T17:46:58.710699Z"
    }
   },
   "source": "df = pd.merge(wage, bonus, on='person_id', how='outer')",
   "id": "56a99c761b52e0dc",
   "outputs": [],
   "execution_count": 8
  },
  {
   "cell_type": "markdown",
   "metadata": {},
   "source": [
    "Наконец, давайте посчитаем итоговую зарплату\n",
    "   1. Заменим отсутствующие записи в колонке `bonus` нулями\n",
    "   2. Уберём людей без `wage` - это те \"плохие\" записи, от которых мы избавлялись на предыдущих шагах\n",
    "   3. Сделаем новую колонку `total`, которая будет равна 12 окладам и премии\n",
    "   4. Посчитаем среднюю и медианную итоговую зарплату в разрезе по полу"
   ],
   "id": "4e66155524de563c"
  },
  {
   "cell_type": "code",
   "metadata": {
    "ExecuteTime": {
     "end_time": "2024-08-23T17:49:24.758427Z",
     "start_time": "2024-08-23T17:49:24.648988Z"
    }
   },
   "source": [
    "df['bonus'] = df['bonus'].fillna(0)\n",
    "df = df[df['wage'] > 0]\n",
    "df['total'] = (df['wage'] * 12) + df['bonus']\n",
    "gender_wage_stats = df.groupby('gender')[['total']].agg(['mean', 'median'])\n",
    "print(gender_wage_stats)"
   ],
   "id": "ec1637778e7c072",
   "outputs": [
    {
     "name": "stdout",
     "output_type": "stream",
     "text": [
      "                total               \n",
      "                 mean         median\n",
      "gender                              \n",
      "F       571147.044444  348904.084527\n",
      "M       659426.140833  437499.824868\n"
     ]
    }
   ],
   "execution_count": 9
  },
  {
   "cell_type": "markdown",
   "metadata": {},
   "source": "Сохраним `df` в файл `final_wages.csv`",
   "id": "385ad17a54812192"
  },
  {
   "cell_type": "code",
   "metadata": {
    "ExecuteTime": {
     "end_time": "2024-08-23T17:50:31.049150Z",
     "start_time": "2024-08-23T17:50:30.943770Z"
    }
   },
   "source": "df.to_csv('`nunique()`', index=False)",
   "id": "c46b0a8e0c9982b2",
   "outputs": [],
   "execution_count": 10
  },
  {
   "metadata": {},
   "cell_type": "code",
   "outputs": [],
   "execution_count": null,
   "source": "",
   "id": "ac6c0d2f78ce2146"
  }
 ],
 "metadata": {
  "kernelspec": {
   "display_name": "Python 3",
   "language": "python",
   "name": "python3"
  },
  "language_info": {
   "codemirror_mode": {
    "name": "ipython",
    "version": 3
   },
   "file_extension": ".py",
   "mimetype": "text/x-python",
   "name": "python",
   "nbconvert_exporter": "python",
   "pygments_lexer": "ipython3",
   "version": "3.8.5"
  },
  "toc": {
   "base_numbering": 1,
   "nav_menu": {},
   "number_sections": true,
   "sideBar": true,
   "skip_h1_title": false,
   "title_cell": "Table of Contents",
   "title_sidebar": "Contents",
   "toc_cell": false,
   "toc_position": {},
   "toc_section_display": true,
   "toc_window_display": false
  }
 },
 "nbformat": 4,
 "nbformat_minor": 5
}
